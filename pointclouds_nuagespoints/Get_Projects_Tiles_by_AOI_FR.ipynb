{
 "cells": [
  {
   "cell_type": "markdown",
   "id": "98ed1c92-c59e-4d27-b936-f2d91c259090",
   "metadata": {
    "editable": true,
    "slideshow": {
     "slide_type": ""
    },
    "tags": []
   },
   "source": [
    "# [English version here!](./Get_Projects_Tiles_by_AOI_EN.ipynb)\n",
    "# Déterminer les projets et les tuiles lidars couvrant une région d'intérêt\n",
    "\n",
    "Ce tutoriel donne des exemples permettant de déterminer les projets et les tuiles lidars couvrant une région d'intérêt. Nous utilisons les fichiers d'index du produit [Nuages de points lidars - Série CanÉlévation](https://ouvert.canada.ca/data/fr/dataset/7069387e-9986-4297-9f55-0288e9676947). Principalement, nous utilisons la librairie [geopandas](https://geopandas.org/en/stable/) pour manipuler les couches d'index et faire les opérations spatiales.\n",
    "Dans une application réelle, la liste des tuiles obtenues pour une région d'intérêt pourrait être utilisée pour construire une série de traitement plus avancé tel que décrit dans le notebook portant sur la [création d'un modèle numérique d'élévation (MNE) à partir d'un nuage de point lidar en format COPC LAZ](./DEM_from_COPC_lidar_FR.ipynb).\n",
    "\n",
    "## Les étapes:\n",
    "* [Préparation de l'environnement](#Pr%C3%A9paration-de-l'environnement)\n",
    "* [Importation des modules nécessaires](#Importation-des-modules-n%C3%A9cessaires)\n",
    "* [Téléchargement des index du produit](#T%C3%A9l%C3%A9chargement-des-index-du-produit)\n",
    "* [Création des objets geopandas](#Cr%C3%A9ation-des-objets-geopandas)\n",
    "* [Trouver les projets et les tuiles couvrant une zone d'intérêt](#Trouver-les-projets-et-les-tuiles-couvrant-une-zone-d'int%C3%A9r%C3%AAt)\n",
    "* [Utilisation d'une région d'intérêt dans une autre projection](#Utilisation-d'une-r%C3%A9gion-d'int%C3%A9r%C3%AAt-dans-une-autre-projection)"
   ]
  },
  {
   "cell_type": "markdown",
   "id": "22bfaa03-71ed-49d1-bed3-3381951e64f4",
   "metadata": {},
   "source": [
    "## Préparation de l'environnement\n",
    "Trois étapes sont nécessaires afin de pouvoir exécuter ces exemples localement.\n",
    "### 1. Récupération du code source\n",
    "   À l'endroit de votre choix sur votre ordinateur. Récupérer le code source des exemples en effectuant une commande de clone git.\n",
    "\n",
    "   >```bash\n",
    "   >git clone https://github.com/NRCan/CanElevation.git\n",
    "   >```\n",
    "\n",
    "   Aller ensuite dans le répertoire contenant les notebooks.\n",
    "\n",
    "   >```bash\n",
    "   >cd CanElevation/pointclouds_nuagespoints\n",
    "   >```\n",
    "\n",
    "\n",
    "### 2. Installation de conda\n",
    "\n",
    "   Nous recommandons l'utilisation de conda pour l'installation des dépendances nécessaires au bon fonctionnement. Des [instructions d'installation détaillées](https://docs.anaconda.com/miniconda/install/#quick-command-line-install) sont disponibles. Les prochaines instructions assument que conda est disponible en ligne de commande.\n",
    "\n",
    "### 3. Installation des dépendances\n",
    "\n",
    "   Le fichier requirements.yaml contient les dépendances nécessaires. Nous devons donc créer un environnement conda avec ces dépendances.\n",
    "\n",
    "   >```bash\n",
    "   >conda env create -n CanElevation_PointClouds --file requirements.yml\n",
    "   >```  \n",
    "\n",
    "   On doit ensuite activer cet environnement conda nouvellement créé. \n",
    "\t\n",
    "   >```bash\n",
    "   >conda activate CanElevation_PointClouds\n",
    "   >```\n",
    "    \n",
    "Le lancement de jupyter notebook peut se faire simplement avec la commande suivante:\n",
    "\n",
    "   >```bash\n",
    "   >jupyter notebook\n",
    "   >```\n",
    "    \n",
    "En cas de problème ou pour plus d'options de lancement, veuillez vous référer au [guide d'utilisation](https://jupyter-notebook-beginner-guide.readthedocs.io/en/latest/execute.html).\n",
    "\n",
    "**Vous pouvez maintenant lancer le code des autres cellules du notebook**"
   ]
  },
  {
   "cell_type": "markdown",
   "id": "84f3ec3d-a315-4148-be1a-989fbc86cb92",
   "metadata": {},
   "source": [
    "## Importation des modules nécessaires\n",
    "Dans les exemples suivants, nous utilisons principalement la librairie geopandas. Nous utilisons également le module requests permettant de télécharger les index ainsi que le module zipfile permettant de les décompresser localement."
   ]
  },
  {
   "cell_type": "code",
   "execution_count": 3,
   "id": "b6e54cff-61f7-4b7b-aed9-0c8dd6a60684",
   "metadata": {},
   "outputs": [],
   "source": [
    "import os\n",
    "import requests\n",
    "import zipfile\n",
    "import geopandas as gpd\n",
    "from shapely import box\n",
    "from IPython.display import display\n",
    "from ipywidgets import Output"
   ]
  },
  {
   "cell_type": "markdown",
   "id": "2eb31869-2b30-4ece-bbe9-3e6ffcc8e9d2",
   "metadata": {
    "editable": true,
    "slideshow": {
     "slide_type": ""
    },
    "tags": []
   },
   "source": [
    "## Téléchargement des index du produit\n",
    "La [page du produit](https://open.canada.ca/data/en/dataset/7069387e-9986-4297-9f55-0288e9676947) contient les index des projets lidars distribués ainsi que les tuiles lidar composant chaque projet. Avant de pouvoir les manipuler, nous devons les télécharger et extraire le contenu des fichiers compressés.\n"
   ]
  },
  {
   "cell_type": "code",
   "execution_count": 4,
   "id": "d020309d-9e5f-411f-bbe8-e3557f65532d",
   "metadata": {
    "editable": true,
    "slideshow": {
     "slide_type": ""
    },
    "tags": []
   },
   "outputs": [],
   "source": [
    "# URLs to the shapefiles containing LiDAR projects and tiles index\n",
    "# Liens URLs des index de projets et tuiles lidar\n",
    "projects_url = 'https://download-telecharger.services.geo.ca/pub/elevation/pointclouds_nuagespoints/Index_LiDARprojects_projetslidar.zip'\n",
    "tiles_url = 'https://download-telecharger.services.geo.ca/pub/elevation/pointclouds_nuagespoints/Index_LiDARtiles_tuileslidar.zip'\n",
    "\n",
    "for index_url in (projects_url, tiles_url):\n",
    "    zipname = os.path.basename(index_url)\n",
    "    basename = os.path.splitext(zipname)[0]\n",
    "    \n",
    "    # Downloading / téléchargement\n",
    "    response = requests.get(index_url)\n",
    "    with open(zipname, 'wb') as file:\n",
    "        file.write(response.content)\n",
    "\n",
    "    #Unzipping / extraction\n",
    "    with zipfile.ZipFile(zipname, 'r') as zip_ref:\n",
    "        zip_ref.extractall(basename)\n",
    "    "
   ]
  },
  {
   "cell_type": "markdown",
   "id": "1fea5da4-29b6-4250-878f-713e2565d88e",
   "metadata": {},
   "source": [
    "## Création des objets geopandas\n",
    "Nous utiliserons la librairie Geopandas pour interagir avec les index. Cette librairie permet les opérations spatiales et géométriques. Veuillez consulter la documentation de la librairie pour plus d'informations."
   ]
  },
  {
   "cell_type": "code",
   "execution_count": 5,
   "id": "613a2afb-654c-47d9-b338-92b2f3bdae18",
   "metadata": {},
   "outputs": [],
   "source": [
    "# Loading the index in geopandas objects. The coordinate reference system of the index is NAD83(CSRS) - EPSG:4617\n",
    "# Chargement des index dans des objets geopandas. Le système de référence de ces index est le NAD83(CSRS) - EPSG:4617\n",
    "gdf_projects = gpd.read_file('Index_LiDARprojects_projetslidar/Index_LiDARprojects_projetslidar.shp')\n",
    "\n",
    "# Load the lidar tiles / Chargement des tuiles lidars\n",
    "gdf_tiles = gpd.read_file('Index_LiDARtiles_tuileslidar/Index_LiDARtiles_tuileslidar.shp')"
   ]
  },
  {
   "cell_type": "markdown",
   "id": "86b9716f-18ab-4868-af86-a14123461e71",
   "metadata": {},
   "source": [
    "## Trouver les projets et les tuiles couvrant une zone d'intérêt\n",
    "Un cas d'usage commun est de déterminer les projets lidars et les tuiles couvrant une région d'intérêt. Dans cet exemple, nous définissons une zone d'intérêt. Nous déterminons ensuite les projets et les tuiles couvrant cette zone par une requête spatiale d'intersection. Les résultats sont imprimés à l'écran."
   ]
  },
  {
   "cell_type": "code",
   "execution_count": 6,
   "id": "02005272-948a-4af9-a9c4-a6369e8a72de",
   "metadata": {},
   "outputs": [],
   "source": [
    "\n",
    "aoi = box(-80, 43.20, -79.971, 43.225)\n",
    "\n",
    "aoi_gdf = gpd.GeoDataFrame({'geometry': [aoi]}, crs=4617)\n",
    "\n",
    "overlapping_projects = gdf_projects[gdf_projects.intersects(aoi_gdf.geometry.iloc[0])]\n",
    "overlapping_tiles = gdf_tiles[gdf_tiles.intersects(aoi_gdf.geometry.iloc[0])]\n",
    "\n",
    "out = Output()\n",
    "with out:\n",
    "    print(f\"Overlapping LiDAR Projects:\")\n",
    "    for _, row in overlapping_projects.iterrows():\n",
    "        print(f\"Project: {row['Project']}, URL: {row['URL']}\")\n",
    "\n",
    "    print(f\"Overlapping LiDAR Tiles:\")\n",
    "    for _, row in overlapping_tiles.iterrows():\n",
    "        print(f\"Project: {row['Project']}, Tile name: {row['Tile_name']}\")\n",
    "display(out)"
   ]
  },
  {
   "cell_type": "markdown",
   "id": "e0b82366-2bd2-4b6c-9c8e-a971531338f3",
   "metadata": {},
   "source": [
    "## Utilisation d'une région d'intérêt dans une autre projection\n",
    "Travaillez-vous avec des coordonnées projetées? En connaissant le code de la projection, il est facile de les reprojeter avant de faire l'opération d'intersection sur les projets et les tuiles. \n",
    "Nous adaptons ici l'exemple précédent afin de trouver les projets et tuiles couvrant la zone d'intérêt projetée."
   ]
  },
  {
   "cell_type": "code",
   "execution_count": 7,
   "id": "4f547e5f-5100-4217-bc9e-12cb79c721ca",
   "metadata": {},
   "outputs": [],
   "source": [
    "# AOI coordinates / Coordonnées de la région d'intérêt - NAD83(CSRS) / UTM zone 17N\n",
    "aoi_utm = box(580736, 4783785, 583114, 4785855)\n",
    "\n",
    "# We specify the UTM 17N EPSG code / Nous utilisons ici le code EPSG UTM zone 17N\n",
    "aoi_gdf = gpd.GeoDataFrame({'geometry': [aoi_utm]}, crs=2958)\n",
    "\n",
    "# The extra step needed is the reprojection of the AOI in 4617\n",
    "# L'étape additionnelle requise est la reprojection de la zone d'intérêt en 4617\n",
    "aoi_gdf = aoi_gdf.to_crs(epsg=4617)\n",
    "\n",
    "\n",
    "# The remaining steps are the same / Les autres opérations sont inchangées\n",
    "overlapping_projects = gdf_projects[gdf_projects.intersects(aoi_gdf.geometry.iloc[0])]\n",
    "overlapping_tiles = gdf_tiles[gdf_tiles.intersects(aoi_gdf.geometry.iloc[0])]\n",
    "\n",
    "out = Output()\n",
    "with out:\n",
    "    print(f\"Overlapping LiDAR Projects:\")\n",
    "    for _, row in overlapping_projects.iterrows():\n",
    "        print(f\"Project: {row['Project']}, URL: {row['URL']}\")\n",
    "\n",
    "    print(f\"Overlapping LiDAR Tiles:\")\n",
    "    for _, row in overlapping_tiles.iterrows():\n",
    "        print(f\"Project: {row['Project']}, Tile name: {row['Tile_name']}\")\n",
    "display(out)"
   ]
  }
 ],
 "metadata": {
  "kernelspec": {
   "display_name": "Python 3 (ipykernel)",
   "language": "python",
   "name": "python3"
  },
  "language_info": {
   "codemirror_mode": {
    "name": "ipython",
    "version": 3
   },
   "file_extension": ".py",
   "mimetype": "text/x-python",
   "name": "python",
   "nbconvert_exporter": "python",
   "pygments_lexer": "ipython3",
   "version": "3.13.1"
  }
 },
 "nbformat": 4,
 "nbformat_minor": 5
}

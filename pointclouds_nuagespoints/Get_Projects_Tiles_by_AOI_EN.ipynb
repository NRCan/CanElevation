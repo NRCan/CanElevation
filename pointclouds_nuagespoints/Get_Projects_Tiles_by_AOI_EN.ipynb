{
 "cells": [
  {
   "cell_type": "markdown",
   "id": "98ed1c92-c59e-4d27-b936-f2d91c259090",
   "metadata": {
    "editable": true,
    "slideshow": {
     "slide_type": ""
    },
    "tags": []
   },
   "source": [
    "# [Version en français ici!](./Get_Projects_Tiles_by_AOI_FR.ipynb)\n",
    "# Identify projects and lidar tiles covering a region of interest\n",
    "\n",
    "This tutorial gives examples of how to find lidar projects and tiles covering a region of interest. We use the index files of the product [LiDAR Point Clouds - CanElevation Series](https://open.canada.ca/data/en/dataset/7069387e-9986-4297-9f55-0288e9676947). Primarily, we use the [geopandas](https://geopandas.org/en/stable/) module to manipulate the index layers and perform spatial queries.\n",
    "In a real application, the list of tiles obtained for a region of interest could be used to build a more advanced processing workflow as described in the notebook [creating a digital elevation model (DEM) from a lidar point cloud in COPC LAZ format](./DEM_from_COPC_lidar_EN.ipynb).\n",
    "\n",
    "\n",
    "## Steps:\n",
    "* [Preparing the environment](#Preparing-the-environment)\n",
    "* [Importing the necessary modules](#Importing-the-necessary-modules)\n",
    "* [Download product indexes](#Download-product-indexes)\n",
    "* [Creating geopandas objects](#Creating-geopandas-objects)\n",
    "* [Find projects and tiles covering an area of interest](#Find-projects-and-tiles-covering-an-area-of-interest)\n",
    "* [Using a region of interest in another projection](#Using-a-region-of-interest-in-another-projection)"
   ]
  },
  {
   "cell_type": "markdown",
   "id": "22bfaa03-71ed-49d1-bed3-3381951e64f4",
   "metadata": {},
   "source": [
    "## Preparing the environment\n",
    "Three steps are required to run these examples locally.\n",
    "### 1. retrieve the source code\n",
    "   In the location of your choice on your computer. Retrieve the source code of the examples by running a git clone command.\n",
    "\n",
    "   >```bash\n",
    "   >git clone https://github.com/NRCan/CanElevation.git\n",
    "   >```\n",
    "\n",
    "   Then go to the directory containing the notebooks.\n",
    "\n",
    "   >```bash\n",
    "   >cd CanElevation/pointclouds_nuagespoints\n",
    "   >```\n",
    "\n",
    "\n",
    "### 2. conda installation\n",
    "\n",
    "   We recommend using conda to install the dependencies required for proper operation. Detailed [installation instructions](https://docs.anaconda.com/miniconda/install/#quick-command-line-install) are available. The following instructions assume that conda is available from the command line.\n",
    "\n",
    "### 3. Installing dependencies\n",
    "\n",
    "   The requirements.yaml file contains the necessary dependencies. We therefore need to create a conda environment with these dependencies.\n",
    "\n",
    "   >```bash\n",
    "   >conda env create -n CanElevation_PointClouds --file requirements.yml\n",
    "   >```  \n",
    "\n",
    "   Next, we need to activate this newly created conda environment. \n",
    "\t\n",
    "   >```bash\n",
    "   >conda activate CanElevation_PointClouds\n",
    "   >```\n",
    "    \n",
    "To launch jupyter notebook, simply use the following command:\n",
    "\n",
    "   >````bash\n",
    "   >jupyter notebook\n",
    "   >```\n",
    "    \n",
    "In case of problems or for more launch options, please refer to the [user guide](https://jupyter-notebook-beginner-guide.readthedocs.io/en/latest/execute.html).\n",
    "\n",
    "**You can now launch the code for the other cells in the notebook**."
   ]
  },
  {
   "cell_type": "markdown",
   "id": "84f3ec3d-a315-4148-be1a-989fbc86cb92",
   "metadata": {},
   "source": [
    "## Importing the necessary modules\n",
    "In the following examples, we mainly use the geopandas library. We also use the requests module to download indexes and the zipfile module to decompress them locally."
   ]
  },
  {
   "cell_type": "code",
   "execution_count": 3,
   "id": "b6e54cff-61f7-4b7b-aed9-0c8dd6a60684",
   "metadata": {},
   "outputs": [],
   "source": [
    "import os\n",
    "import requests\n",
    "import zipfile\n",
    "import geopandas as gpd\n",
    "from shapely import box\n",
    "from IPython.display import display\n",
    "from ipywidgets import Output"
   ]
  },
  {
   "cell_type": "markdown",
   "id": "2eb31869-2b30-4ece-bbe9-3e6ffcc8e9d2",
   "metadata": {
    "editable": true,
    "slideshow": {
     "slide_type": ""
    },
    "tags": []
   },
   "source": [
    "## Download product indexes\n",
    "The [product page](https://open.canada.ca/data/en/dataset/7069387e-9986-4297-9f55-0288e9676947) contains the indexes of the distributed lidar projects and the lidar tiles making up each project. Before we can manipulate them, we need to download them and extract the contents of the compressed files.\n"
   ]
  },
  {
   "cell_type": "code",
   "execution_count": 4,
   "id": "d020309d-9e5f-411f-bbe8-e3557f65532d",
   "metadata": {
    "editable": true,
    "slideshow": {
     "slide_type": ""
    },
    "tags": []
   },
   "outputs": [],
   "source": [
    "# URLs to the shapefiles containing LiDAR projects and tiles index\n",
    "# Liens URLs des index de projets et tuiles lidar\n",
    "projects_url = 'https://download-telecharger.services.geo.ca/pub/elevation/pointclouds_nuagespoints/Index_LiDARprojects_projetslidar.zip'\n",
    "tiles_url = 'https://download-telecharger.services.geo.ca/pub/elevation/pointclouds_nuagespoints/Index_LiDARtiles_tuileslidar.zip'\n",
    "\n",
    "for index_url in (projects_url, tiles_url):\n",
    "    zipname = os.path.basename(index_url)\n",
    "    basename = os.path.splitext(zipname)[0]\n",
    "    \n",
    "    # Downloading / téléchargement\n",
    "    response = requests.get(index_url)\n",
    "    with open(zipname, 'wb') as file:\n",
    "        file.write(response.content)\n",
    "\n",
    "    #Unzipping / extraction\n",
    "    with zipfile.ZipFile(zipname, 'r') as zip_ref:\n",
    "        zip_ref.extractall(basename)\n",
    "    "
   ]
  },
  {
   "cell_type": "markdown",
   "id": "1fea5da4-29b6-4250-878f-713e2565d88e",
   "metadata": {},
   "source": [
    "## Creating geopandas objects\n",
    "We'll be using the Geopandas library to interact with the indexes. This library supports both spatial and geometric operations. Please consult the library documentation for more information."
   ]
  },
  {
   "cell_type": "code",
   "execution_count": 5,
   "id": "613a2afb-654c-47d9-b338-92b2f3bdae18",
   "metadata": {},
   "outputs": [
    {
     "name": "stderr",
     "output_type": "stream",
     "text": [
      "/space/partner/nrcan/geobase/work/opt/miniconda-elevation/envs/lidar-demo/lib/python3.13/site-packages/pyogrio/raw.py:198: RuntimeWarning: Index_LiDARtiles_tuileslidar/Index_LiDARtiles_tuileslidar.shp contains polygon(s) with rings with invalid winding order. Autocorrecting them, but that shapefile should be corrected using ogr2ogr for example.\n",
      "  return ogr_read(\n"
     ]
    }
   ],
   "source": [
    "# Loading the index in geopandas objects. The coordinate reference system of the index is NAD83(CSRS) - EPSG:4617\n",
    "# Chargement des index dans des objets geopandas. Le système de référence de ces index est le NAD83(CSRS) - EPSG:4617\n",
    "gdf_projects = gpd.read_file('Index_LiDARprojects_projetslidar/Index_LiDARprojects_projetslidar.shp')\n",
    "\n",
    "# Load the lidar tiles / Chargement des tuiles lidars\n",
    "gdf_tiles = gpd.read_file('Index_LiDARtiles_tuileslidar/Index_LiDARtiles_tuileslidar.shp')"
   ]
  },
  {
   "cell_type": "markdown",
   "id": "86b9716f-18ab-4868-af86-a14123461e71",
   "metadata": {},
   "source": [
    "## Find projects and tiles covering an area of interest\n",
    "A common use case is to determine the lidar projects and tiles covering a region of interest. In this example, we define an area of interest. We then determine the projects and tiles covering this area using a spatial intersection query. The results are printed on screen."
   ]
  },
  {
   "cell_type": "code",
   "execution_count": 6,
   "id": "02005272-948a-4af9-a9c4-a6369e8a72de",
   "metadata": {},
   "outputs": [
    {
     "data": {
      "application/vnd.jupyter.widget-view+json": {
       "model_id": "5f62cf59ab1248318ac3fbd3f5358dc5",
       "version_major": 2,
       "version_minor": 0
      },
      "text/plain": [
       "Output()"
      ]
     },
     "metadata": {},
     "output_type": "display_data"
    }
   ],
   "source": [
    "\n",
    "aoi = box(-80, 43.20, -79.971, 43.225)\n",
    "\n",
    "aoi_gdf = gpd.GeoDataFrame({'geometry': [aoi]}, crs=4617)\n",
    "\n",
    "overlapping_projects = gdf_projects[gdf_projects.intersects(aoi_gdf.geometry.iloc[0])]\n",
    "overlapping_tiles = gdf_tiles[gdf_tiles.intersects(aoi_gdf.geometry.iloc[0])]\n",
    "\n",
    "out = Output()\n",
    "with out:\n",
    "    print(f\"Overlapping LiDAR Projects:\")\n",
    "    for _, row in overlapping_projects.iterrows():\n",
    "        print(f\"Project: {row['Project']}, URL: {row['URL']}\")\n",
    "\n",
    "    print(f\"Overlapping LiDAR Tiles:\")\n",
    "    for _, row in overlapping_tiles.iterrows():\n",
    "        print(f\"Project: {row['Project']}, Tile name: {row['Tile_name']}\")\n",
    "display(out)"
   ]
  },
  {
   "cell_type": "markdown",
   "id": "e0b82366-2bd2-4b6c-9c8e-a971531338f3",
   "metadata": {},
   "source": [
    "## Using a region of interest in another projection\n",
    "Are you working with projected coordinates? If you know the projection code, it's easy to reproject them before performing the intersection operation on projects and tiles. \n",
    "Here we adapt the previous example to find the projects and tiles covering the projected area of interest."
   ]
  },
  {
   "cell_type": "code",
   "execution_count": 7,
   "id": "4f547e5f-5100-4217-bc9e-12cb79c721ca",
   "metadata": {},
   "outputs": [
    {
     "data": {
      "application/vnd.jupyter.widget-view+json": {
       "model_id": "a0c459d3c2fa44f1a5ff593e97e9c664",
       "version_major": 2,
       "version_minor": 0
      },
      "text/plain": [
       "Output()"
      ]
     },
     "metadata": {},
     "output_type": "display_data"
    }
   ],
   "source": [
    "# AOI coordinates / Coordonnées de la région d'intérêt - NAD83(CSRS) / UTM zone 17N\n",
    "aoi_utm = box(580736, 4783785, 583114, 4785855)\n",
    "\n",
    "# We specify the UTM 17N EPSG code / Nous utilisons ici le code EPSG UTM zone 17N\n",
    "aoi_gdf = gpd.GeoDataFrame({'geometry': [aoi_utm]}, crs=2958)\n",
    "\n",
    "# The extra step needed is the reprojection of the AOI in 4617\n",
    "# L'étape additionnelle requise est la reprojection de la zone d'intérêt en 4617\n",
    "aoi_gdf = aoi_gdf.to_crs(epsg=4617)\n",
    "\n",
    "\n",
    "# The remaining steps are the same / Les autres opérations sont inchangées\n",
    "overlapping_projects = gdf_projects[gdf_projects.intersects(aoi_gdf.geometry.iloc[0])]\n",
    "overlapping_tiles = gdf_tiles[gdf_tiles.intersects(aoi_gdf.geometry.iloc[0])]\n",
    "\n",
    "out = Output()\n",
    "with out:\n",
    "    print(f\"Overlapping LiDAR Projects:\")\n",
    "    for _, row in overlapping_projects.iterrows():\n",
    "        print(f\"Project: {row['Project']}, URL: {row['URL']}\")\n",
    "\n",
    "    print(f\"Overlapping LiDAR Tiles:\")\n",
    "    for _, row in overlapping_tiles.iterrows():\n",
    "        print(f\"Project: {row['Project']}, Tile name: {row['Tile_name']}\")\n",
    "display(out)"
   ]
  }
 ],
 "metadata": {
  "kernelspec": {
   "display_name": "Python 3 (ipykernel)",
   "language": "python",
   "name": "python3"
  },
  "language_info": {
   "codemirror_mode": {
    "name": "ipython",
    "version": 3
   },
   "file_extension": ".py",
   "mimetype": "text/x-python",
   "name": "python",
   "nbconvert_exporter": "python",
   "pygments_lexer": "ipython3",
   "version": "3.13.1"
  }
 },
 "nbformat": 4,
 "nbformat_minor": 5
}
